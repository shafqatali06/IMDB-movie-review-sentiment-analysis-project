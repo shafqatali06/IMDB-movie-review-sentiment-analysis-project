{
 "cells": [
  {
   "cell_type": "code",
   "execution_count": 5,
   "id": "cc711187-8c7b-4d62-9b29-0552e20922b5",
   "metadata": {},
   "outputs": [],
   "source": [
    "from tensorflow.keras.preprocessing.text import one_hot"
   ]
  },
  {
   "cell_type": "code",
   "execution_count": 7,
   "id": "a37e768f-ca7a-4378-94e6-60d31bebbfcd",
   "metadata": {},
   "outputs": [],
   "source": [
    "sentences = [\n",
    "    'the glass of milk',\n",
    "    'the glass of juice',\n",
    "    'the cup of tea',\n",
    "    'I am a good boy',\n",
    "    'I am a good developer',\n",
    "    'understand the meaning of words',\n",
    "    'your videos are good',\n",
    "]"
   ]
  },
  {
   "cell_type": "code",
   "execution_count": 9,
   "id": "dac76a21-5fa4-4291-a7a0-d2707bb8d4c9",
   "metadata": {},
   "outputs": [],
   "source": [
    "voc_size = 10000"
   ]
  },
  {
   "cell_type": "code",
   "execution_count": 11,
   "id": "545fcee5-5ac4-4062-bb1e-767e5b352b84",
   "metadata": {},
   "outputs": [],
   "source": [
    "one_hot_rep = [one_hot(words, voc_size) for words in sentences]"
   ]
  },
  {
   "cell_type": "code",
   "execution_count": 13,
   "id": "283185cf-62f7-44ca-b13e-5c4a0a1c5aeb",
   "metadata": {},
   "outputs": [
    {
     "data": {
      "text/plain": [
       "[[5173, 409, 1458, 4581],\n",
       " [5173, 409, 1458, 3804],\n",
       " [5173, 7065, 1458, 9664],\n",
       " [4, 4554, 8105, 5731, 7130],\n",
       " [4, 4554, 8105, 5731, 4603],\n",
       " [6076, 5173, 3771, 1458, 3150],\n",
       " [945, 9756, 5209, 5731]]"
      ]
     },
     "execution_count": 13,
     "metadata": {},
     "output_type": "execute_result"
    }
   ],
   "source": [
    "one_hot_rep"
   ]
  },
  {
   "cell_type": "code",
   "execution_count": null,
   "id": "f647370e-8e34-47a7-81b7-6b1b34e9f7a9",
   "metadata": {},
   "outputs": [],
   "source": []
  },
  {
   "cell_type": "code",
   "execution_count": 16,
   "id": "b308f6da-87b5-4421-8792-422b13991406",
   "metadata": {},
   "outputs": [],
   "source": [
    "from tensorflow.keras.layers import Embedding\n",
    "from tensorflow.keras.models import Sequential\n",
    "from tensorflow.keras.utils import pad_sequences"
   ]
  },
  {
   "cell_type": "code",
   "execution_count": 18,
   "id": "bdf96076-db53-4821-9b37-6c213530539c",
   "metadata": {},
   "outputs": [],
   "source": [
    "sentence_length = 8"
   ]
  },
  {
   "cell_type": "code",
   "execution_count": 28,
   "id": "094fff6e-0353-4de4-a16d-0d133b4c98af",
   "metadata": {},
   "outputs": [],
   "source": [
    "embedded_docs = pad_sequences(one_hot_rep, padding='pre', maxlen=sentence_length)"
   ]
  },
  {
   "cell_type": "code",
   "execution_count": 30,
   "id": "089be828-3157-4127-8e02-41bdad55aefa",
   "metadata": {},
   "outputs": [
    {
     "data": {
      "text/plain": [
       "array([[   0,    0,    0,    0, 5173,  409, 1458, 4581],\n",
       "       [   0,    0,    0,    0, 5173,  409, 1458, 3804],\n",
       "       [   0,    0,    0,    0, 5173, 7065, 1458, 9664],\n",
       "       [   0,    0,    0,    4, 4554, 8105, 5731, 7130],\n",
       "       [   0,    0,    0,    4, 4554, 8105, 5731, 4603],\n",
       "       [   0,    0,    0, 6076, 5173, 3771, 1458, 3150],\n",
       "       [   0,    0,    0,    0,  945, 9756, 5209, 5731]])"
      ]
     },
     "execution_count": 30,
     "metadata": {},
     "output_type": "execute_result"
    }
   ],
   "source": [
    "embedded_docs"
   ]
  },
  {
   "cell_type": "code",
   "execution_count": 60,
   "id": "bc0be88a-c4b7-48ee-874f-33afd2cd9d22",
   "metadata": {},
   "outputs": [],
   "source": [
    "dimension = 10\n",
    "vocablary_size = 10000\n",
    "sentence_length = 8"
   ]
  },
  {
   "cell_type": "code",
   "execution_count": 62,
   "id": "bb91fb03-2a19-4b4d-a907-27500b16d1b4",
   "metadata": {},
   "outputs": [],
   "source": [
    "model1 = Sequential()"
   ]
  },
  {
   "cell_type": "code",
   "execution_count": 64,
   "id": "5a451a74-5c65-46b0-88a3-0597914c78fe",
   "metadata": {},
   "outputs": [
    {
     "name": "stderr",
     "output_type": "stream",
     "text": [
      "C:\\Users\\HP\\anaconda3\\Lib\\site-packages\\keras\\src\\layers\\core\\embedding.py:90: UserWarning: Argument `input_length` is deprecated. Just remove it.\n",
      "  warnings.warn(\n"
     ]
    }
   ],
   "source": [
    "model1.add(Embedding(vocablary_size, dimension, input_length=sentence_length))"
   ]
  },
  {
   "cell_type": "code",
   "execution_count": 66,
   "id": "396a79f1-04ba-4dd3-881b-5bb795ef529a",
   "metadata": {},
   "outputs": [],
   "source": [
    "model1.compile('adam', 'mse')"
   ]
  },
  {
   "cell_type": "code",
   "execution_count": 68,
   "id": "6114b882-051c-45ab-b8e3-168f87843615",
   "metadata": {},
   "outputs": [
    {
     "data": {
      "text/html": [
       "<pre style=\"white-space:pre;overflow-x:auto;line-height:normal;font-family:Menlo,'DejaVu Sans Mono',consolas,'Courier New',monospace\"><span style=\"font-weight: bold\">Model: \"sequential_2\"</span>\n",
       "</pre>\n"
      ],
      "text/plain": [
       "\u001b[1mModel: \"sequential_2\"\u001b[0m\n"
      ]
     },
     "metadata": {},
     "output_type": "display_data"
    },
    {
     "data": {
      "text/html": [
       "<pre style=\"white-space:pre;overflow-x:auto;line-height:normal;font-family:Menlo,'DejaVu Sans Mono',consolas,'Courier New',monospace\">┏━━━━━━━━━━━━━━━━━━━━━━━━━━━━━━━━━┳━━━━━━━━━━━━━━━━━━━━━━━━┳━━━━━━━━━━━━━━━┓\n",
       "┃<span style=\"font-weight: bold\"> Layer (type)                    </span>┃<span style=\"font-weight: bold\"> Output Shape           </span>┃<span style=\"font-weight: bold\">       Param # </span>┃\n",
       "┡━━━━━━━━━━━━━━━━━━━━━━━━━━━━━━━━━╇━━━━━━━━━━━━━━━━━━━━━━━━╇━━━━━━━━━━━━━━━┩\n",
       "│ embedding_4 (<span style=\"color: #0087ff; text-decoration-color: #0087ff\">Embedding</span>)         │ ?                      │   <span style=\"color: #00af00; text-decoration-color: #00af00\">0</span> (unbuilt) │\n",
       "└─────────────────────────────────┴────────────────────────┴───────────────┘\n",
       "</pre>\n"
      ],
      "text/plain": [
       "┏━━━━━━━━━━━━━━━━━━━━━━━━━━━━━━━━━┳━━━━━━━━━━━━━━━━━━━━━━━━┳━━━━━━━━━━━━━━━┓\n",
       "┃\u001b[1m \u001b[0m\u001b[1mLayer (type)                   \u001b[0m\u001b[1m \u001b[0m┃\u001b[1m \u001b[0m\u001b[1mOutput Shape          \u001b[0m\u001b[1m \u001b[0m┃\u001b[1m \u001b[0m\u001b[1m      Param #\u001b[0m\u001b[1m \u001b[0m┃\n",
       "┡━━━━━━━━━━━━━━━━━━━━━━━━━━━━━━━━━╇━━━━━━━━━━━━━━━━━━━━━━━━╇━━━━━━━━━━━━━━━┩\n",
       "│ embedding_4 (\u001b[38;5;33mEmbedding\u001b[0m)         │ ?                      │   \u001b[38;5;34m0\u001b[0m (unbuilt) │\n",
       "└─────────────────────────────────┴────────────────────────┴───────────────┘\n"
      ]
     },
     "metadata": {},
     "output_type": "display_data"
    },
    {
     "data": {
      "text/html": [
       "<pre style=\"white-space:pre;overflow-x:auto;line-height:normal;font-family:Menlo,'DejaVu Sans Mono',consolas,'Courier New',monospace\"><span style=\"font-weight: bold\"> Total params: </span><span style=\"color: #00af00; text-decoration-color: #00af00\">0</span> (0.00 B)\n",
       "</pre>\n"
      ],
      "text/plain": [
       "\u001b[1m Total params: \u001b[0m\u001b[38;5;34m0\u001b[0m (0.00 B)\n"
      ]
     },
     "metadata": {},
     "output_type": "display_data"
    },
    {
     "data": {
      "text/html": [
       "<pre style=\"white-space:pre;overflow-x:auto;line-height:normal;font-family:Menlo,'DejaVu Sans Mono',consolas,'Courier New',monospace\"><span style=\"font-weight: bold\"> Trainable params: </span><span style=\"color: #00af00; text-decoration-color: #00af00\">0</span> (0.00 B)\n",
       "</pre>\n"
      ],
      "text/plain": [
       "\u001b[1m Trainable params: \u001b[0m\u001b[38;5;34m0\u001b[0m (0.00 B)\n"
      ]
     },
     "metadata": {},
     "output_type": "display_data"
    },
    {
     "data": {
      "text/html": [
       "<pre style=\"white-space:pre;overflow-x:auto;line-height:normal;font-family:Menlo,'DejaVu Sans Mono',consolas,'Courier New',monospace\"><span style=\"font-weight: bold\"> Non-trainable params: </span><span style=\"color: #00af00; text-decoration-color: #00af00\">0</span> (0.00 B)\n",
       "</pre>\n"
      ],
      "text/plain": [
       "\u001b[1m Non-trainable params: \u001b[0m\u001b[38;5;34m0\u001b[0m (0.00 B)\n"
      ]
     },
     "metadata": {},
     "output_type": "display_data"
    }
   ],
   "source": [
    "model1.summary()"
   ]
  },
  {
   "cell_type": "code",
   "execution_count": null,
   "id": "42f5496e-cd8d-42f6-9fb4-df7ce0d3ff2e",
   "metadata": {},
   "outputs": [],
   "source": []
  },
  {
   "cell_type": "code",
   "execution_count": 74,
   "id": "7fd19041-3f02-42d0-993e-0e58e58c417a",
   "metadata": {},
   "outputs": [
    {
     "name": "stdout",
     "output_type": "stream",
     "text": [
      "\u001b[1m1/1\u001b[0m \u001b[32m━━━━━━━━━━━━━━━━━━━━\u001b[0m\u001b[37m\u001b[0m \u001b[1m0s\u001b[0m 388ms/step\n"
     ]
    },
    {
     "data": {
      "text/plain": [
       "array([[[-0.01169567,  0.00318889, -0.02801039, -0.04967407,\n",
       "          0.02360925, -0.04007389,  0.02194649, -0.00217598,\n",
       "          0.03767798,  0.03283215],\n",
       "        [-0.01169567,  0.00318889, -0.02801039, -0.04967407,\n",
       "          0.02360925, -0.04007389,  0.02194649, -0.00217598,\n",
       "          0.03767798,  0.03283215],\n",
       "        [-0.01169567,  0.00318889, -0.02801039, -0.04967407,\n",
       "          0.02360925, -0.04007389,  0.02194649, -0.00217598,\n",
       "          0.03767798,  0.03283215],\n",
       "        [-0.01169567,  0.00318889, -0.02801039, -0.04967407,\n",
       "          0.02360925, -0.04007389,  0.02194649, -0.00217598,\n",
       "          0.03767798,  0.03283215],\n",
       "        [-0.03184488, -0.04690776,  0.02217359,  0.0355537 ,\n",
       "         -0.01364044,  0.03217706,  0.00799698, -0.04316137,\n",
       "          0.00358474, -0.03259068],\n",
       "        [-0.0169284 ,  0.04293131, -0.00758854, -0.03188803,\n",
       "          0.01193469,  0.02293236, -0.01223164, -0.022159  ,\n",
       "         -0.00988593,  0.00938747],\n",
       "        [ 0.01310779,  0.03789199,  0.02959964,  0.02763641,\n",
       "          0.04168052,  0.02610571,  0.00859947,  0.00017561,\n",
       "         -0.03957214, -0.01205399],\n",
       "        [ 0.00346268, -0.03042257,  0.0452871 ,  0.03446409,\n",
       "          0.03200276,  0.04402801, -0.01944125,  0.03637348,\n",
       "          0.01421017,  0.02851855]],\n",
       "\n",
       "       [[-0.01169567,  0.00318889, -0.02801039, -0.04967407,\n",
       "          0.02360925, -0.04007389,  0.02194649, -0.00217598,\n",
       "          0.03767798,  0.03283215],\n",
       "        [-0.01169567,  0.00318889, -0.02801039, -0.04967407,\n",
       "          0.02360925, -0.04007389,  0.02194649, -0.00217598,\n",
       "          0.03767798,  0.03283215],\n",
       "        [-0.01169567,  0.00318889, -0.02801039, -0.04967407,\n",
       "          0.02360925, -0.04007389,  0.02194649, -0.00217598,\n",
       "          0.03767798,  0.03283215],\n",
       "        [-0.01169567,  0.00318889, -0.02801039, -0.04967407,\n",
       "          0.02360925, -0.04007389,  0.02194649, -0.00217598,\n",
       "          0.03767798,  0.03283215],\n",
       "        [-0.03184488, -0.04690776,  0.02217359,  0.0355537 ,\n",
       "         -0.01364044,  0.03217706,  0.00799698, -0.04316137,\n",
       "          0.00358474, -0.03259068],\n",
       "        [-0.0169284 ,  0.04293131, -0.00758854, -0.03188803,\n",
       "          0.01193469,  0.02293236, -0.01223164, -0.022159  ,\n",
       "         -0.00988593,  0.00938747],\n",
       "        [ 0.01310779,  0.03789199,  0.02959964,  0.02763641,\n",
       "          0.04168052,  0.02610571,  0.00859947,  0.00017561,\n",
       "         -0.03957214, -0.01205399],\n",
       "        [ 0.04850266, -0.0242991 ,  0.04937199, -0.01838718,\n",
       "         -0.04227817, -0.04541549,  0.04969479,  0.01186861,\n",
       "          0.03978253,  0.02736804]],\n",
       "\n",
       "       [[-0.01169567,  0.00318889, -0.02801039, -0.04967407,\n",
       "          0.02360925, -0.04007389,  0.02194649, -0.00217598,\n",
       "          0.03767798,  0.03283215],\n",
       "        [-0.01169567,  0.00318889, -0.02801039, -0.04967407,\n",
       "          0.02360925, -0.04007389,  0.02194649, -0.00217598,\n",
       "          0.03767798,  0.03283215],\n",
       "        [-0.01169567,  0.00318889, -0.02801039, -0.04967407,\n",
       "          0.02360925, -0.04007389,  0.02194649, -0.00217598,\n",
       "          0.03767798,  0.03283215],\n",
       "        [-0.01169567,  0.00318889, -0.02801039, -0.04967407,\n",
       "          0.02360925, -0.04007389,  0.02194649, -0.00217598,\n",
       "          0.03767798,  0.03283215],\n",
       "        [-0.03184488, -0.04690776,  0.02217359,  0.0355537 ,\n",
       "         -0.01364044,  0.03217706,  0.00799698, -0.04316137,\n",
       "          0.00358474, -0.03259068],\n",
       "        [ 0.01264066, -0.03647289, -0.0026886 , -0.04649509,\n",
       "         -0.03717845, -0.03739522,  0.02760142,  0.04731217,\n",
       "         -0.01383638,  0.03492397],\n",
       "        [ 0.01310779,  0.03789199,  0.02959964,  0.02763641,\n",
       "          0.04168052,  0.02610571,  0.00859947,  0.00017561,\n",
       "         -0.03957214, -0.01205399],\n",
       "        [-0.01722478,  0.04713184,  0.01601419,  0.02358868,\n",
       "         -0.04004787, -0.0096066 , -0.02651135, -0.0215194 ,\n",
       "         -0.03539765,  0.01243111]],\n",
       "\n",
       "       [[-0.01169567,  0.00318889, -0.02801039, -0.04967407,\n",
       "          0.02360925, -0.04007389,  0.02194649, -0.00217598,\n",
       "          0.03767798,  0.03283215],\n",
       "        [-0.01169567,  0.00318889, -0.02801039, -0.04967407,\n",
       "          0.02360925, -0.04007389,  0.02194649, -0.00217598,\n",
       "          0.03767798,  0.03283215],\n",
       "        [-0.01169567,  0.00318889, -0.02801039, -0.04967407,\n",
       "          0.02360925, -0.04007389,  0.02194649, -0.00217598,\n",
       "          0.03767798,  0.03283215],\n",
       "        [ 0.02331418, -0.03829338,  0.0441897 , -0.01037218,\n",
       "         -0.00235853, -0.01542217,  0.02090562,  0.01418502,\n",
       "         -0.03291531, -0.04048709],\n",
       "        [-0.04440049, -0.02428058,  0.03322966,  0.04777497,\n",
       "          0.04534442, -0.02446502,  0.03933566,  0.0035817 ,\n",
       "          0.02830874,  0.01528392],\n",
       "        [ 0.04911119,  0.00528023, -0.01129748,  0.04049775,\n",
       "         -0.03986428, -0.03428906,  0.0326118 ,  0.04112143,\n",
       "         -0.04275743, -0.02498261],\n",
       "        [-0.01800839,  0.04390165,  0.00239769,  0.00814431,\n",
       "          0.00671109,  0.01107955, -0.00048278, -0.04152793,\n",
       "         -0.03456885, -0.02055587],\n",
       "        [ 0.02231607, -0.00350548,  0.00765441, -0.0403888 ,\n",
       "          0.00906832,  0.0253484 ,  0.01488329, -0.03448136,\n",
       "         -0.03577273, -0.02571156]],\n",
       "\n",
       "       [[-0.01169567,  0.00318889, -0.02801039, -0.04967407,\n",
       "          0.02360925, -0.04007389,  0.02194649, -0.00217598,\n",
       "          0.03767798,  0.03283215],\n",
       "        [-0.01169567,  0.00318889, -0.02801039, -0.04967407,\n",
       "          0.02360925, -0.04007389,  0.02194649, -0.00217598,\n",
       "          0.03767798,  0.03283215],\n",
       "        [-0.01169567,  0.00318889, -0.02801039, -0.04967407,\n",
       "          0.02360925, -0.04007389,  0.02194649, -0.00217598,\n",
       "          0.03767798,  0.03283215],\n",
       "        [ 0.02331418, -0.03829338,  0.0441897 , -0.01037218,\n",
       "         -0.00235853, -0.01542217,  0.02090562,  0.01418502,\n",
       "         -0.03291531, -0.04048709],\n",
       "        [-0.04440049, -0.02428058,  0.03322966,  0.04777497,\n",
       "          0.04534442, -0.02446502,  0.03933566,  0.0035817 ,\n",
       "          0.02830874,  0.01528392],\n",
       "        [ 0.04911119,  0.00528023, -0.01129748,  0.04049775,\n",
       "         -0.03986428, -0.03428906,  0.0326118 ,  0.04112143,\n",
       "         -0.04275743, -0.02498261],\n",
       "        [-0.01800839,  0.04390165,  0.00239769,  0.00814431,\n",
       "          0.00671109,  0.01107955, -0.00048278, -0.04152793,\n",
       "         -0.03456885, -0.02055587],\n",
       "        [-0.03973078,  0.04489888,  0.04220909,  0.03393449,\n",
       "         -0.01805998, -0.00300678,  0.01532391, -0.01966598,\n",
       "         -0.01440703,  0.01084117]],\n",
       "\n",
       "       [[-0.01169567,  0.00318889, -0.02801039, -0.04967407,\n",
       "          0.02360925, -0.04007389,  0.02194649, -0.00217598,\n",
       "          0.03767798,  0.03283215],\n",
       "        [-0.01169567,  0.00318889, -0.02801039, -0.04967407,\n",
       "          0.02360925, -0.04007389,  0.02194649, -0.00217598,\n",
       "          0.03767798,  0.03283215],\n",
       "        [-0.01169567,  0.00318889, -0.02801039, -0.04967407,\n",
       "          0.02360925, -0.04007389,  0.02194649, -0.00217598,\n",
       "          0.03767798,  0.03283215],\n",
       "        [-0.00119358,  0.02931001,  0.02825188,  0.01039716,\n",
       "          0.04198768, -0.00910389, -0.01382101, -0.04941689,\n",
       "         -0.00314081,  0.01978015],\n",
       "        [-0.03184488, -0.04690776,  0.02217359,  0.0355537 ,\n",
       "         -0.01364044,  0.03217706,  0.00799698, -0.04316137,\n",
       "          0.00358474, -0.03259068],\n",
       "        [ 0.04254732,  0.04953342,  0.01118081, -0.03495177,\n",
       "          0.00453458,  0.01601945,  0.03822858, -0.0063463 ,\n",
       "         -0.02948734,  0.04280803],\n",
       "        [ 0.01310779,  0.03789199,  0.02959964,  0.02763641,\n",
       "          0.04168052,  0.02610571,  0.00859947,  0.00017561,\n",
       "         -0.03957214, -0.01205399],\n",
       "        [-0.01640415,  0.02886662, -0.03516161,  0.02245704,\n",
       "         -0.01949701, -0.00744207, -0.0264367 , -0.04256895,\n",
       "         -0.03531094, -0.00524063]],\n",
       "\n",
       "       [[-0.01169567,  0.00318889, -0.02801039, -0.04967407,\n",
       "          0.02360925, -0.04007389,  0.02194649, -0.00217598,\n",
       "          0.03767798,  0.03283215],\n",
       "        [-0.01169567,  0.00318889, -0.02801039, -0.04967407,\n",
       "          0.02360925, -0.04007389,  0.02194649, -0.00217598,\n",
       "          0.03767798,  0.03283215],\n",
       "        [-0.01169567,  0.00318889, -0.02801039, -0.04967407,\n",
       "          0.02360925, -0.04007389,  0.02194649, -0.00217598,\n",
       "          0.03767798,  0.03283215],\n",
       "        [-0.01169567,  0.00318889, -0.02801039, -0.04967407,\n",
       "          0.02360925, -0.04007389,  0.02194649, -0.00217598,\n",
       "          0.03767798,  0.03283215],\n",
       "        [ 0.03616359,  0.03604751, -0.04599501, -0.01648496,\n",
       "          0.01717282,  0.02773751, -0.02537539, -0.02796989,\n",
       "         -0.04090098,  0.02410993],\n",
       "        [-0.00991683,  0.01766023, -0.02313087,  0.00129503,\n",
       "          0.00328476,  0.04475785, -0.02376375,  0.00935622,\n",
       "         -0.00727067, -0.04758183],\n",
       "        [ 0.04199716,  0.03776065, -0.04174588,  0.0016533 ,\n",
       "         -0.0392055 ,  0.01858145, -0.01455846, -0.04193548,\n",
       "          0.03925847, -0.04441812],\n",
       "        [-0.01800839,  0.04390165,  0.00239769,  0.00814431,\n",
       "          0.00671109,  0.01107955, -0.00048278, -0.04152793,\n",
       "         -0.03456885, -0.02055587]]], dtype=float32)"
      ]
     },
     "execution_count": 74,
     "metadata": {},
     "output_type": "execute_result"
    }
   ],
   "source": [
    "model1.predict(embedded_docs)"
   ]
  },
  {
   "cell_type": "code",
   "execution_count": null,
   "id": "508292f9-0a6a-4534-9747-090ba0cbb84b",
   "metadata": {},
   "outputs": [],
   "source": []
  },
  {
   "cell_type": "code",
   "execution_count": null,
   "id": "fd671ed1-afde-4489-9773-4a40407f8db3",
   "metadata": {},
   "outputs": [],
   "source": []
  },
  {
   "cell_type": "code",
   "execution_count": null,
   "id": "6c913b93-525e-4b2c-b89a-974d61d9d1b8",
   "metadata": {},
   "outputs": [],
   "source": []
  },
  {
   "cell_type": "code",
   "execution_count": null,
   "id": "ea8aaf4f-23a1-4fba-a72f-4980cc1299ee",
   "metadata": {},
   "outputs": [],
   "source": []
  },
  {
   "cell_type": "code",
   "execution_count": null,
   "id": "ff3a39aa-7c1c-4aaf-911a-edc40afd7d51",
   "metadata": {},
   "outputs": [],
   "source": []
  },
  {
   "cell_type": "code",
   "execution_count": null,
   "id": "489a3433-22d6-4ae4-b702-635ab4bf7da3",
   "metadata": {},
   "outputs": [],
   "source": []
  },
  {
   "cell_type": "code",
   "execution_count": null,
   "id": "1ce5c95d-99c2-452a-abfa-3665b5856a1b",
   "metadata": {},
   "outputs": [],
   "source": []
  },
  {
   "cell_type": "code",
   "execution_count": null,
   "id": "c3823210-60a3-4775-a423-5f992ff58334",
   "metadata": {},
   "outputs": [],
   "source": []
  },
  {
   "cell_type": "code",
   "execution_count": null,
   "id": "1d507739-005a-41b1-b3f6-30c312e1dc02",
   "metadata": {},
   "outputs": [],
   "source": []
  },
  {
   "cell_type": "code",
   "execution_count": null,
   "id": "a04cace3-d0ad-42f1-b5a3-e41a2927b20e",
   "metadata": {},
   "outputs": [],
   "source": []
  },
  {
   "cell_type": "code",
   "execution_count": null,
   "id": "934e6dda-7b25-45a6-8d09-ec24c709ab70",
   "metadata": {},
   "outputs": [],
   "source": []
  },
  {
   "cell_type": "code",
   "execution_count": null,
   "id": "89a2b901-9576-4d84-8abb-a08748091333",
   "metadata": {},
   "outputs": [],
   "source": []
  },
  {
   "cell_type": "code",
   "execution_count": null,
   "id": "8f4812da-5770-4042-9b40-fe9a34e06616",
   "metadata": {},
   "outputs": [],
   "source": []
  },
  {
   "cell_type": "code",
   "execution_count": null,
   "id": "8b570170-e2ae-4455-8c5b-e08de94a2066",
   "metadata": {},
   "outputs": [],
   "source": []
  },
  {
   "cell_type": "code",
   "execution_count": null,
   "id": "5d4ab86e-95e3-438c-b193-79249bd3d6c2",
   "metadata": {},
   "outputs": [],
   "source": []
  },
  {
   "cell_type": "code",
   "execution_count": 34,
   "id": "efeb1ae6-e006-4c19-89dc-6bd0f0cf1473",
   "metadata": {},
   "outputs": [],
   "source": []
  },
  {
   "cell_type": "code",
   "execution_count": null,
   "id": "62fd5109-9d02-46b6-991f-ee43ece94b14",
   "metadata": {},
   "outputs": [],
   "source": []
  },
  {
   "cell_type": "code",
   "execution_count": null,
   "id": "f1227be7-045a-4f06-8355-e4847d57ac38",
   "metadata": {},
   "outputs": [],
   "source": []
  },
  {
   "cell_type": "code",
   "execution_count": null,
   "id": "493b531d-b815-45ed-a569-8fb099e9551d",
   "metadata": {},
   "outputs": [],
   "source": []
  },
  {
   "cell_type": "code",
   "execution_count": null,
   "id": "affba041-5c52-4078-996a-2d89d180a113",
   "metadata": {},
   "outputs": [],
   "source": []
  },
  {
   "cell_type": "code",
   "execution_count": null,
   "id": "a6f3c0fc-f7cb-40f5-90b4-738b5c528c46",
   "metadata": {},
   "outputs": [],
   "source": []
  },
  {
   "cell_type": "code",
   "execution_count": null,
   "id": "d5324718-b435-453f-b7b5-a0c30dcf7427",
   "metadata": {},
   "outputs": [],
   "source": []
  },
  {
   "cell_type": "code",
   "execution_count": null,
   "id": "020cd721-c3a4-4de2-8ffa-74ec67253844",
   "metadata": {},
   "outputs": [],
   "source": []
  },
  {
   "cell_type": "code",
   "execution_count": null,
   "id": "943779b1-ca1e-431f-86a2-e507320ee184",
   "metadata": {},
   "outputs": [],
   "source": []
  },
  {
   "cell_type": "code",
   "execution_count": null,
   "id": "5355c672-6e69-4399-8f2c-8b27964f7e4d",
   "metadata": {},
   "outputs": [],
   "source": []
  },
  {
   "cell_type": "code",
   "execution_count": null,
   "id": "e92095a8-e02b-4d4c-9fa6-bcd1d7e0b560",
   "metadata": {},
   "outputs": [],
   "source": []
  },
  {
   "cell_type": "code",
   "execution_count": null,
   "id": "e36ac342-7141-441a-a601-1749872ff6ea",
   "metadata": {},
   "outputs": [],
   "source": []
  },
  {
   "cell_type": "code",
   "execution_count": null,
   "id": "af88af74-da82-4dea-97b5-669131aaeec5",
   "metadata": {},
   "outputs": [],
   "source": []
  },
  {
   "cell_type": "code",
   "execution_count": null,
   "id": "d122b9c0-6e89-4043-8966-3b94dfcad748",
   "metadata": {},
   "outputs": [],
   "source": []
  },
  {
   "cell_type": "code",
   "execution_count": null,
   "id": "2f35ed18-7802-49b4-ae32-3c8f02e3b2b0",
   "metadata": {},
   "outputs": [],
   "source": []
  }
 ],
 "metadata": {
  "kernelspec": {
   "display_name": "Python 3 (ipykernel)",
   "language": "python",
   "name": "python3"
  },
  "language_info": {
   "codemirror_mode": {
    "name": "ipython",
    "version": 3
   },
   "file_extension": ".py",
   "mimetype": "text/x-python",
   "name": "python",
   "nbconvert_exporter": "python",
   "pygments_lexer": "ipython3",
   "version": "3.12.7"
  }
 },
 "nbformat": 4,
 "nbformat_minor": 5
}
